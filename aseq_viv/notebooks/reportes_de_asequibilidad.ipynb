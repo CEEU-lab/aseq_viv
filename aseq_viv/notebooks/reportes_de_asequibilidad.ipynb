{
 "cells": [
  {
   "cell_type": "markdown",
   "metadata": {},
   "source": [
    "<a href=\"https://colab.research.google.com/github/CEEU-lab/aseq_viv/blob/main/aseq_viv/notebooks/reportes_de_asequibilidad.ipynb\" target=\"_parent\"><img src=\"https://colab.research.google.com/assets/colab-badge.svg\" alt=\"Open In Colab\"/></a>"
   ]
  },
  {
   "cell_type": "code",
   "execution_count": null,
   "metadata": {
    "id": "2V5RtNVO_DAj"
   },
   "outputs": [],
   "source": [
    "try:\n",
    "    from aseq_viv.asequibilidad import subclasificacion_estrato, auc_asequible, pct_asequible \n",
    "except:\n",
    "    # Para uso en colab\n",
    "    !git clone https://github.com/CEEU-lab/aseq_viv.git\n",
    "    from aseq_viv.aseq_viv.asequibilidad import subclasificacion_estrato, auc_asequible, pct_asequible "
   ]
  },
  {
   "cell_type": "code",
   "execution_count": null,
   "metadata": {
    "id": "uT4homme_dsG"
   },
   "outputs": [],
   "source": [
    "amb1, amb2, amb3 = 57479, 69683, 94295"
   ]
  },
  {
   "cell_type": "markdown",
   "metadata": {
    "id": "2j-cF8TzESAM"
   },
   "source": [
    "# Adulto"
   ]
  },
  {
   "cell_type": "code",
   "execution_count": null,
   "metadata": {
    "id": "9KVnSB8U_hjd"
   },
   "outputs": [],
   "source": [
    "# aca se definen los ingresos correspondientes al target y el precio de alquiler (adulto, hogar1, etc etc)\n",
    "estrato_bajo = subclasificacion_estrato(ref=amb1, lim_inf=0, lim_sup=33727, n=2)\n",
    "estrato_medio = subclasificacion_estrato(ref=amb1, lim_inf=33727, lim_sup=118045, n=2) \n",
    "estrato_alto = subclasificacion_estrato(ref=amb1, lim_inf=118045, lim_sup=160000, n=2)"
   ]
  },
  {
   "cell_type": "code",
   "execution_count": null,
   "metadata": {
    "id": "IKWf-foYEhwh"
   },
   "outputs": [],
   "source": [
    "auc_asequible(estrato_bajo, estrato_medio, estrato_alto, ylabel='Monto alquiler (1 amb)')"
   ]
  },
  {
   "cell_type": "code",
   "execution_count": null,
   "metadata": {
    "id": "7pJH5IyREiQJ"
   },
   "outputs": [],
   "source": [
    "pct_asequible(estrato_bajo, estrato_medio, estrato_alto, ref=amb1, \n",
    "              tipologia='1 amb', ylabel='Monto alquiler ($ARS)')"
   ]
  },
  {
   "cell_type": "code",
   "execution_count": null,
   "metadata": {
    "id": "Xhftvp5rEs0w"
   },
   "outputs": [],
   "source": [
    "pct_asequible(estrato_bajo, estrato_medio, estrato_alto, ref=amb2, \n",
    "              tipologia='2 amb', ylabel='Monto alquiler ($ARS)')"
   ]
  },
  {
   "cell_type": "code",
   "execution_count": null,
   "metadata": {
    "id": "MnD8wM8aEs7s"
   },
   "outputs": [],
   "source": [
    "pct_asequible(estrato_bajo, estrato_medio, estrato_alto, ref=amb3, \n",
    "              tipologia='3 amb', ylabel='Monto alquiler ($ARS)')"
   ]
  },
  {
   "cell_type": "markdown",
   "metadata": {
    "id": "L9dBCheO_PiQ"
   },
   "source": [
    "# Hogar 1"
   ]
  },
  {
   "cell_type": "code",
   "execution_count": null,
   "metadata": {
    "id": "ncToeU8GEbzt"
   },
   "outputs": [],
   "source": [
    "estrato_bajo = subclasificacion_estrato(ref=amb1, lim_inf=0, lim_sup=82969, n=2)\n",
    "estrato_medio = subclasificacion_estrato(ref=amb1, lim_inf=82970, lim_sup=290391, n=2) \n",
    "estrato_alto = subclasificacion_estrato(ref=amb1, lim_inf=290392, lim_sup=370000, n=2)"
   ]
  },
  {
   "cell_type": "code",
   "execution_count": null,
   "metadata": {
    "id": "4fCgMPG66Xvf"
   },
   "outputs": [],
   "source": [
    "auc_asequible(estrato_bajo, estrato_medio, estrato_alto, ylabel='Monto alquiler (1 amb)')"
   ]
  },
  {
   "cell_type": "code",
   "execution_count": null,
   "metadata": {
    "id": "R5YtfSMC6dHg"
   },
   "outputs": [],
   "source": [
    "pct_asequible(estrato_bajo, estrato_medio, estrato_alto, ref=amb1, \n",
    "              tipologia='1 amb', ylabel='Monto alquiler ($ARS)')"
   ]
  },
  {
   "cell_type": "code",
   "execution_count": null,
   "metadata": {
    "id": "ulgfNmqe8Uq-"
   },
   "outputs": [],
   "source": [
    "pct_asequible(estrato_bajo, estrato_medio, estrato_alto, ref=amb2, \n",
    "              tipologia='2 amb', ylabel='Monto alquiler ($ARS)')"
   ]
  },
  {
   "cell_type": "code",
   "execution_count": null,
   "metadata": {
    "id": "LE2Ecmze8Uw6"
   },
   "outputs": [],
   "source": [
    "pct_asequible(estrato_bajo, estrato_medio, estrato_alto, ref=amb2, \n",
    "              tipologia='2 amb', ylabel='Monto alquiler ($ARS)')"
   ]
  },
  {
   "cell_type": "markdown",
   "metadata": {
    "id": "am-gvGwbEX2l"
   },
   "source": [
    "# Hogar 2"
   ]
  },
  {
   "cell_type": "code",
   "execution_count": null,
   "metadata": {
    "id": "OObUlBqlEcVG"
   },
   "outputs": [],
   "source": [
    "estrato_bajo = subclasificacion_estrato(ref=amb1, lim_inf=0, lim_sup=104217, n=2)\n",
    "estrato_medio = subclasificacion_estrato(ref=amb1, lim_inf=104218, lim_sup=364759, n=2) \n",
    "estrato_alto = subclasificacion_estrato(ref=amb1, lim_inf=364760, lim_sup=470000, n=2)"
   ]
  },
  {
   "cell_type": "code",
   "execution_count": null,
   "metadata": {
    "id": "C0iUmoO86Y2X"
   },
   "outputs": [],
   "source": [
    "auc_asequible(estrato_bajo, estrato_medio, estrato_alto, ylabel='Monto alquiler (1 amb)')"
   ]
  },
  {
   "cell_type": "code",
   "execution_count": null,
   "metadata": {
    "id": "IoRuomoM6g4z"
   },
   "outputs": [],
   "source": [
    "pct_asequible(estrato_bajo, estrato_medio, estrato_alto, ref=amb1, \n",
    "              tipologia='1 amb', ylabel='Monto alquiler ($ARS)')"
   ]
  },
  {
   "cell_type": "code",
   "execution_count": null,
   "metadata": {
    "id": "RcTSjp4_8dnO"
   },
   "outputs": [],
   "source": [
    "pct_asequible(estrato_bajo, estrato_medio, estrato_alto, ref=amb2, \n",
    "              tipologia='2 amb', ylabel='Monto alquiler ($ARS)')"
   ]
  },
  {
   "cell_type": "code",
   "execution_count": null,
   "metadata": {
    "id": "Y2nHQx6j8drD"
   },
   "outputs": [],
   "source": [
    "pct_asequible(estrato_bajo, estrato_medio, estrato_alto, ref=amb3, \n",
    "              tipologia='3 amb', ylabel='Monto alquiler ($ARS)')"
   ]
  },
  {
   "cell_type": "markdown",
   "metadata": {
    "id": "AF2hqQTMEZIY"
   },
   "source": [
    "# Hogar 3"
   ]
  },
  {
   "cell_type": "code",
   "execution_count": null,
   "metadata": {
    "id": "8eUc8PfyEc2m"
   },
   "outputs": [],
   "source": [
    "estrato_bajo = subclasificacion_estrato(ref=amb1, lim_inf=0, lim_sup=109613, n=2)\n",
    "estrato_medio = subclasificacion_estrato(ref=amb1, lim_inf=109614, lim_sup=383655, n=2) \n",
    "estrato_alto = subclasificacion_estrato(ref=amb1, lim_inf=383656, lim_sup=490000, n=2)"
   ]
  },
  {
   "cell_type": "code",
   "execution_count": null,
   "metadata": {
    "id": "mHgsUpveEavZ"
   },
   "outputs": [],
   "source": [
    "auc_asequible(estrato_bajo, estrato_medio, estrato_alto, ylabel='Monto alquiler (1 amb)')"
   ]
  },
  {
   "cell_type": "code",
   "execution_count": null,
   "metadata": {
    "id": "uuTY34AI6iCe"
   },
   "outputs": [],
   "source": [
    "pct_asequible(estrato_bajo, estrato_medio, estrato_alto, ref=amb1, \n",
    "              tipologia='1 amb', ylabel='Monto alquiler ($ARS)')"
   ]
  },
  {
   "cell_type": "code",
   "execution_count": null,
   "metadata": {
    "id": "cDni228n7ziG"
   },
   "outputs": [],
   "source": [
    "pct_asequible(estrato_bajo, estrato_medio, estrato_alto, ref=amb2, \n",
    "              tipologia='2 amb', ylabel='Monto alquiler ($ARS)')"
   ]
  },
  {
   "cell_type": "code",
   "execution_count": null,
   "metadata": {
    "id": "Stt2j_aY8oFn"
   },
   "outputs": [],
   "source": [
    "pct_asequible(estrato_bajo, estrato_medio, estrato_alto, ref=amb3, \n",
    "              tipologia='3 amb', ylabel='Monto alquiler ($ARS)')"
   ]
  }
 ],
 "metadata": {
  "colab": {
   "name": "reportes de asequibilidad.ipynb",
   "provenance": []
  },
  "kernelspec": {
   "display_name": "aseqviv",
   "language": "python",
   "name": "aseqviv"
  },
  "language_info": {
   "codemirror_mode": {
    "name": "ipython",
    "version": 3
   },
   "file_extension": ".py",
   "mimetype": "text/x-python",
   "name": "python",
   "nbconvert_exporter": "python",
   "pygments_lexer": "ipython3",
   "version": "3.9.13"
  }
 },
 "nbformat": 4,
 "nbformat_minor": 1
}
